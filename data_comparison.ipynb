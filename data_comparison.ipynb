{
 "cells": [
  {
   "cell_type": "markdown",
   "id": "c6e2a9c8",
   "metadata": {},
   "source": [
    "## Eletrical Usage\n",
    "\n",
    "Take the optimal machine learning method for each independant variable:\n",
    "\n",
    "- Location average income $\\rightarrow$ kNN\n",
    "- Weather $\\rightarrow$ Random Forest\n",
    "    - Rain [mm]\n",
    "    - Wind speed [km/h]\n",
    "    - Temperature [°C]\n",
    "- Time for industrial activity $\\rightarrow$ Regression\n",
    "- Number of High-Rise buildings $\\rightarrow$ kNN"
   ]
  },
  {
   "cell_type": "code",
   "execution_count": null,
   "id": "718c33fb",
   "metadata": {},
   "outputs": [],
   "source": [
    "## Weather\n",
    "\n",
    "import scikit-learn as sklearn\n",
    "import pandas as pd\n",
    "import numpy as np\n",
    "import matplotlib.pyplot as plt\n",
    "\n"
   ]
  }
 ],
 "metadata": {
  "kernelspec": {
   "display_name": "myenv",
   "language": "python",
   "name": "python3"
  },
  "language_info": {
   "name": "python",
   "version": "3.12.3"
  }
 },
 "nbformat": 4,
 "nbformat_minor": 5
}
