{
 "cells": [
  {
   "cell_type": "markdown",
   "id": "c6e2a9c8",
   "metadata": {},
   "source": [
    "## Eletrical Usage\n",
    "\n",
    "Take the optimal machine learning method for each independant variable:\n",
    "\n",
    "- Location average income $\\rightarrow$ kNN\n",
    "- Weather $\\rightarrow$ Random Forest\n",
    "    - Rain [mm]\n",
    "    - Wind speed [km/h]\n",
    "    - Temperature [°C]\n",
    "- Time for industrial activity $\\rightarrow$ Regression\n",
    "- Number of High-Rise buildings $\\rightarrow$ kNN"
   ]
  },
  {
   "cell_type": "code",
   "execution_count": null,
   "id": "718c33fb",
   "metadata": {},
   "outputs": [
    {
     "name": "stdout",
     "output_type": "stream",
     "text": [
      "1.7.1\n"
     ]
    }
   ],
   "source": [
    "# Weather\n",
    "import numpy as np\n",
    "import sklearn\n",
    "import pandas as pd\n",
    "import matplotlib.pyplot as plt\n",
    "\n",
    "\n"
   ]
  }
 ],
 "metadata": {
  "kernelspec": {
   "display_name": ".venv",
   "language": "python",
   "name": "python3"
  },
  "language_info": {
   "codemirror_mode": {
    "name": "ipython",
    "version": 3
   },
   "file_extension": ".py",
   "mimetype": "text/x-python",
   "name": "python",
   "nbconvert_exporter": "python",
   "pygments_lexer": "ipython3",
   "version": "3.12.3"
  }
 },
 "nbformat": 4,
 "nbformat_minor": 5
}
