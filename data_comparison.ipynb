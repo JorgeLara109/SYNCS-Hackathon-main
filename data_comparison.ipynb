{
 "cells": [
  {
   "cell_type": "markdown",
   "id": "c6e2a9c8",
   "metadata": {},
   "source": [
    "## Eletrical Usage\n",
    "\n",
    "Take the optimal machine learning method for each independant variable:\n",
    "\n",
    "- Location average income $\\rightarrow$ kNN\n",
    "- Weather $\\rightarrow$ Random Forest\n",
    "    - Rain [mm]\n",
    "    - Wind speed [km/h]\n",
    "    - Temperature [°C]\n",
    "- Time for industrial activity $\\rightarrow$ \n",
    "- Number of High-Rise buildings"
   ]
  }
 ],
 "metadata": {
  "kernelspec": {
   "display_name": "myenv",
   "language": "python",
   "name": "python3"
  },
  "language_info": {
   "name": "python",
   "version": "3.12.3"
  }
 },
 "nbformat": 4,
 "nbformat_minor": 5
}
